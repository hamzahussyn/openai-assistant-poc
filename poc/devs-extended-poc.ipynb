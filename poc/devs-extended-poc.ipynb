{
 "cells": [
  {
   "cell_type": "code",
   "execution_count": 1,
   "metadata": {},
   "outputs": [
    {
     "data": {
      "text/plain": [
       "True"
      ]
     },
     "execution_count": 1,
     "metadata": {},
     "output_type": "execute_result"
    }
   ],
   "source": [
    "import os\n",
    "from dotenv import load_dotenv\n",
    "from openai import OpenAI\n",
    "\n",
    "load_dotenv()"
   ]
  },
  {
   "cell_type": "code",
   "execution_count": 2,
   "metadata": {},
   "outputs": [],
   "source": [
    "client = OpenAI()"
   ]
  },
  {
   "cell_type": "code",
   "execution_count": 3,
   "metadata": {},
   "outputs": [],
   "source": [
    "assistant = client.beta.assistants.create(\n",
    "  name=\"Resume Reviewer Assistant\",\n",
    "  instructions=\"You are a resume reviewer chatbot. Use your knowledge base to best respond to questions by human resources dept.\",\n",
    "  model=\"gpt-4-1106-preview\",\n",
    "  tools=[{\"type\": \"retrieval\"}],\n",
    "  file_ids=[\n",
    "    \"file-zSdv69TYUo365pgxHw75I9Rl\",\n",
    "    \"file-Q01C1hBkLSOeJA4urlRul83X\",\n",
    "    \"file-185YTWUfk8rX4ROeIMdEIoLb\",\n",
    "    \"file-HO4oX49N6YtM1PjhFevuATg1\",\n",
    "    \"file-pXrHND1ofXi4WycX0jthUQVT\"\n",
    "    ]\n",
    ")"
   ]
  },
  {
   "cell_type": "code",
   "execution_count": 72,
   "metadata": {},
   "outputs": [],
   "source": [
    "thread = client.beta.threads.create()"
   ]
  },
  {
   "cell_type": "code",
   "execution_count": 73,
   "metadata": {},
   "outputs": [],
   "source": [
    "response_criteria = \"Your response has to be a JSON strictly. Follow this format for json first key should be `resumeScoreAgainstQuestion` this has to be a object with numerical keys and each key has to be an object with two keys: `name`, `score`. The second key of response json has to be `reason` which has to be text and it explains your reasoning for the top scorer candidate. Respond with json only and no text.\"\n",
    "\n",
    "message = client.beta.threads.messages.create(\n",
    "  thread_id=thread.id,\n",
    "  role=\"user\",\n",
    "  content=\"Review each resume from the set and tell who do you think is the best match from the set of resume, the person who proposes intuitive or overlooked solutions to pressing problems solutions.\" + response_criteria,\n",
    ")"
   ]
  },
  {
   "cell_type": "code",
   "execution_count": 74,
   "metadata": {},
   "outputs": [],
   "source": [
    "run = client.beta.threads.runs.create(thread_id=thread.id, assistant_id = assistant.id)\n",
    "run = client.beta.threads.runs.retrieve(thread_id=thread.id, run_id=run.id)"
   ]
  },
  {
   "cell_type": "code",
   "execution_count": 87,
   "metadata": {},
   "outputs": [
    {
     "name": "stdout",
     "output_type": "stream",
     "text": [
      "user : Review each resume from the set and tell who do you think is the best match from the set of resume, the person who proposes intuitive or overlooked solutions to pressing problems solutions.Your response has to be a JSON strictly. Follow this format for json first key should be `resumeScoreAgainstQuestion` this has to be a object with numerical keys and each key has to be an object with two keys: `name`, `score`. The second key of response json has to be `reason` which has to be text and it explains your reasoning for the top scorer candidate. Respond with json only and no text.\n",
      "assistant : ```json\n",
      "{\n",
      "  \"resumeScoreAgainstQuestion\": {\n",
      "    \"1\": {\n",
      "      \"name\": \"Abdullah\",\n",
      "      \"score\": 6.5\n",
      "    },\n",
      "    \"2\": {\n",
      "      \"name\": \"Muhammad Usman Rashid\",\n",
      "      \"score\": 7.5\n",
      "    },\n",
      "    \"3\": {\n",
      "      \"name\": \"Muhammad Ali\",\n",
      "      \"score\": 8.0\n",
      "    },\n",
      "    \"4\": {\n",
      "      \"name\": \"Abdullah Hanee Dagia\",\n",
      "      \"score\": 7.0\n",
      "    },\n",
      "    \"5\": {\n",
      "      \"name\": \"Muhammad Haris Javed\",\n",
      "      \"score\": 8.5\n",
      "    }\n",
      "  },\n",
      "  \"reason\": \"Among the five candidates, Muhammad Haris Javed has the highest score and stands out as the best match for proposing intuitive or overlooked solutions to pressing problems. Notably, his experience at SURMOUNT.AI as a Senior Software Engineer shows his prowess in creating scalable solutions in a fintech environment and improving CI/CD pipelines【40†source】. His track record includes designing and maintaining web applications with cutting-edge technologies, proficiency in a range of relevant skills such as Docker, Kubernetes, CI/CD, and Restful APIs, and a strong background in fintech highlighted by his summary and work experience【39†source】【43†source】. Muhammad Ali follows closely, demonstrating abilities to implement process improvements and collaborate with cross-functional teams【29†source】.\"\n",
      "}\n",
      "```\n"
     ]
    }
   ],
   "source": [
    "message = client.beta.threads.messages.list(thread_id=thread.id)\n",
    "\n",
    "for msg in reversed(message.data):\n",
    "    print(msg.role + \" : \" + msg.content[0].text.value)"
   ]
  },
  {
   "cell_type": "code",
   "execution_count": 89,
   "metadata": {},
   "outputs": [
    {
     "data": {
      "text/plain": [
       "'file-oNuuqY4uZFwCewOOUq1OU8m5'"
      ]
     },
     "execution_count": 89,
     "metadata": {},
     "output_type": "execute_result"
    }
   ],
   "source": [
    "file = client.files.create(\n",
    "            file=open(\"./designer-resume-responses.txt\", \"rb\"),\n",
    "            purpose=\"assistants\"\n",
    "        )\n",
    "file.id"
   ]
  },
  {
   "cell_type": "code",
   "execution_count": 90,
   "metadata": {},
   "outputs": [],
   "source": [
    "assistant = client.beta.assistants.create(\n",
    "  name=\"Resume Reviewer Assistant\",\n",
    "  instructions=\"You are a candidate selection consolidator chatbot. Use your knowledge to pick the best candidate for human resource dept.\",\n",
    "  model=\"gpt-4-1106-preview\",\n",
    "  tools=[{\"type\": \"retrieval\"}],\n",
    "  file_ids=[\n",
    "    \"file-oNuuqY4uZFwCewOOUq1OU8m5\"\n",
    "    ]\n",
    ")"
   ]
  },
  {
   "cell_type": "code",
   "execution_count": 91,
   "metadata": {},
   "outputs": [],
   "source": [
    "thread = client.beta.threads.create()"
   ]
  },
  {
   "cell_type": "code",
   "execution_count": 92,
   "metadata": {},
   "outputs": [],
   "source": [
    "message = client.beta.threads.messages.create(\n",
    "  thread_id=thread.id,\n",
    "  role=\"user\",\n",
    "  content=\"The file youre reviewing contains questions and and your responses from earlier. I want you to go through all these questions and answers and make a choice for me after consolidating a candidate for job. Make your selection from the question answers provided. also give your reasoning for the selection.\",\n",
    ")"
   ]
  },
  {
   "cell_type": "code",
   "execution_count": 93,
   "metadata": {},
   "outputs": [],
   "source": [
    "run = client.beta.threads.runs.create(thread_id=thread.id, assistant_id = assistant.id)\n",
    "run = client.beta.threads.runs.retrieve(thread_id=thread.id, run_id=run.id)"
   ]
  },
  {
   "cell_type": "code",
   "execution_count": 110,
   "metadata": {},
   "outputs": [
    {
     "name": "stdout",
     "output_type": "stream",
     "text": [
      "user : The file youre reviewing contains questions and and your responses from earlier. I want you to go through all these questions and answers and make a choice for me after consolidating a candidate for job. Make your selection from the question answers provided. also give your reasoning for the selection.\n",
      "assistant : Based on the consolidation of information presented in the document, I would recommend Haziq Bin Ayub as the best candidate for the human resource department role.\n",
      "\n",
      "Reasoning for the selection:\n",
      "\n",
      "1. **Curiosity and Observational Skills**: Haziq has the experience of being involved in the entire lifecycle of the user experience (UX) from designing new concepts to implementation【7†source】. This not only shows his curiosity but also his observational skills to refine ideas into functional designs by using different methodologies such as mock-ups, prototypes, and user flows.\n",
      "\n",
      "2. **Good Listening Skills**: His use of both quantitative and qualitative research is indicative of his strong listening skills as it would require understanding user issues and feedback to guide his design process.\n",
      "\n",
      "3. **Translating Designs into Customer Value**: Haziq has been recognized for his ability to articulate and present ideas effectively, contributing towards innovation and creativity, which is essential in adding value to customers with the designs.\n",
      "\n",
      "4. **Experience in UI/UX**: He comes across as someone who understands the technicalities as well as the art of user-centric design. This balance is critical for HR roles that increasingly depend on digital platforms to engage employees and enhance their experiences.\n",
      "\n",
      "5. **Strong Work History in Relevant Field**: He has demonstrated an ability to work independently with developers for designing web, mobile, and dashboard layouts. This shows his versatility and ability to understand the technical constraints and collaboration that new age HR systems may involve.\n",
      "\n",
      "6. **Impact and Achievements**: While other candidates also have solid experience, Haziq stands out for being thorough in his approach and having an award for creativity, which suggests he has the ability to lead projects to successful and innovative outcomes.\n",
      "\n",
      "Additionally, the information does not provide enough specifics on Laeeq Ahmed's interaction with users or his curiosity and observational skills related to the design process. Multazim Siddiqui has strong abilities, particularly in the mobile UI/UX and front-end development area. However, his experience seems to be more focused on screen experience rather than the broader user research and teamwork that we are looking for.\n",
      "\n",
      "Thus, Haziq Bin Ayub's blend of technical UI/UX experience, proven user-engagement process, and innovation-driven work history aligns best with the needs of an HR department looking for a candidate who can not only design but also enhance user experiences.\n"
     ]
    }
   ],
   "source": [
    "message = client.beta.threads.messages.list(thread_id=thread.id)\n",
    "\n",
    "for msg in reversed(message.data):\n",
    "    print(msg.role + \" : \" + msg.content[0].text.value)"
   ]
  }
 ],
 "metadata": {
  "kernelspec": {
   "display_name": "env",
   "language": "python",
   "name": "python3"
  },
  "language_info": {
   "codemirror_mode": {
    "name": "ipython",
    "version": 3
   },
   "file_extension": ".py",
   "mimetype": "text/x-python",
   "name": "python",
   "nbconvert_exporter": "python",
   "pygments_lexer": "ipython3",
   "version": "3.10.12"
  }
 },
 "nbformat": 4,
 "nbformat_minor": 2
}
